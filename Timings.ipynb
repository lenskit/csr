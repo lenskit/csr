{
 "cells": [
  {
   "cell_type": "markdown",
   "id": "convertible-convertible",
   "metadata": {},
   "source": [
    "# Timing Functions\n",
    "\n",
    "This notebook has the results of timing various CSR functions.  It uses the data produced by the benchmark suite and saved in `bench.json`; to prepare that data, run:\n",
    "\n",
    "    python -m pytest --benchmark-only"
   ]
  },
  {
   "cell_type": "code",
   "execution_count": 1,
   "id": "modular-relationship",
   "metadata": {},
   "outputs": [],
   "source": [
    "import json\n",
    "import numpy as np\n",
    "import scipy.sparse as sps\n",
    "import pandas as pd\n",
    "import matplotlib.pyplot as plt\n",
    "import seaborn as sns"
   ]
  },
  {
   "cell_type": "markdown",
   "id": "vulnerable-accuracy",
   "metadata": {},
   "source": [
    "Let's load the benchmark data:"
   ]
  },
  {
   "cell_type": "code",
   "execution_count": 2,
   "id": "terminal-karaoke",
   "metadata": {},
   "outputs": [
    {
     "data": {
      "text/plain": [
       "['machine_info', 'commit_info', 'benchmarks', 'datetime', 'version']"
      ]
     },
     "execution_count": 2,
     "metadata": {},
     "output_type": "execute_result"
    }
   ],
   "source": [
    "with open('bench.json', 'r') as jsf:\n",
    "    data = json.load(jsf)\n",
    "list(data.keys())"
   ]
  },
  {
   "cell_type": "markdown",
   "id": "parliamentary-melbourne",
   "metadata": {},
   "source": [
    "And define a function to get the various benchmark runs:"
   ]
  },
  {
   "cell_type": "code",
   "execution_count": 3,
   "id": "editorial-wednesday",
   "metadata": {},
   "outputs": [],
   "source": [
    "def get_runs(group, *params):\n",
    "    marks = [b for b in data['benchmarks'] if b['group'] == group]\n",
    "    ps = ['kernel'] + list(params)\n",
    "    runs = {}\n",
    "    for b in data['benchmarks']:\n",
    "        if b['group'] != group:\n",
    "            continue\n",
    "        \n",
    "        key = tuple(b['params'][p] for p in ps)\n",
    "        runs[key] = pd.Series(b['stats']['data'], name='time')\n",
    "    \n",
    "    runs = pd.concat(runs, names=ps)\n",
    "    runs = runs.reset_index(ps)\n",
    "    runs = runs.reset_index(drop=True)\n",
    "    return runs"
   ]
  },
  {
   "cell_type": "code",
   "execution_count": 4,
   "id": "dietary-latitude",
   "metadata": {},
   "outputs": [
    {
     "data": {
      "text/html": [
       "<div>\n",
       "<style scoped>\n",
       "    .dataframe tbody tr th:only-of-type {\n",
       "        vertical-align: middle;\n",
       "    }\n",
       "\n",
       "    .dataframe tbody tr th {\n",
       "        vertical-align: top;\n",
       "    }\n",
       "\n",
       "    .dataframe thead th {\n",
       "        text-align: right;\n",
       "    }\n",
       "</style>\n",
       "<table border=\"1\" class=\"dataframe\">\n",
       "  <thead>\n",
       "    <tr style=\"text-align: right;\">\n",
       "      <th></th>\n",
       "      <th>kernel</th>\n",
       "      <th>time</th>\n",
       "    </tr>\n",
       "  </thead>\n",
       "  <tbody>\n",
       "    <tr>\n",
       "      <th>0</th>\n",
       "      <td>scipy</td>\n",
       "      <td>0.000808</td>\n",
       "    </tr>\n",
       "    <tr>\n",
       "      <th>1</th>\n",
       "      <td>scipy</td>\n",
       "      <td>0.000846</td>\n",
       "    </tr>\n",
       "    <tr>\n",
       "      <th>2</th>\n",
       "      <td>scipy</td>\n",
       "      <td>0.000839</td>\n",
       "    </tr>\n",
       "    <tr>\n",
       "      <th>3</th>\n",
       "      <td>scipy</td>\n",
       "      <td>0.000808</td>\n",
       "    </tr>\n",
       "    <tr>\n",
       "      <th>4</th>\n",
       "      <td>scipy</td>\n",
       "      <td>0.000807</td>\n",
       "    </tr>\n",
       "    <tr>\n",
       "      <th>...</th>\n",
       "      <td>...</td>\n",
       "      <td>...</td>\n",
       "    </tr>\n",
       "    <tr>\n",
       "      <th>9148</th>\n",
       "      <td>numba</td>\n",
       "      <td>0.001661</td>\n",
       "    </tr>\n",
       "    <tr>\n",
       "      <th>9149</th>\n",
       "      <td>numba</td>\n",
       "      <td>0.001289</td>\n",
       "    </tr>\n",
       "    <tr>\n",
       "      <th>9150</th>\n",
       "      <td>numba</td>\n",
       "      <td>0.001265</td>\n",
       "    </tr>\n",
       "    <tr>\n",
       "      <th>9151</th>\n",
       "      <td>numba</td>\n",
       "      <td>0.001305</td>\n",
       "    </tr>\n",
       "    <tr>\n",
       "      <th>9152</th>\n",
       "      <td>numba</td>\n",
       "      <td>0.001257</td>\n",
       "    </tr>\n",
       "  </tbody>\n",
       "</table>\n",
       "<p>9153 rows × 2 columns</p>\n",
       "</div>"
      ],
      "text/plain": [
       "     kernel      time\n",
       "0     scipy  0.000808\n",
       "1     scipy  0.000846\n",
       "2     scipy  0.000839\n",
       "3     scipy  0.000808\n",
       "4     scipy  0.000807\n",
       "...     ...       ...\n",
       "9148  numba  0.001661\n",
       "9149  numba  0.001289\n",
       "9150  numba  0.001265\n",
       "9151  numba  0.001305\n",
       "9152  numba  0.001257\n",
       "\n",
       "[9153 rows x 2 columns]"
      ]
     },
     "execution_count": 4,
     "metadata": {},
     "output_type": "execute_result"
    }
   ],
   "source": [
    "get_runs('MultAB')"
   ]
  },
  {
   "cell_type": "markdown",
   "id": "terminal-edwards",
   "metadata": {},
   "source": [
    "## Matrix Multiplication\n",
    "\n",
    "Our first benchmark is a simple matrix multiplication."
   ]
  },
  {
   "cell_type": "code",
   "execution_count": 5,
   "id": "irish-radio",
   "metadata": {},
   "outputs": [
    {
     "data": {
      "text/html": [
       "<div>\n",
       "<style scoped>\n",
       "    .dataframe tbody tr th:only-of-type {\n",
       "        vertical-align: middle;\n",
       "    }\n",
       "\n",
       "    .dataframe tbody tr th {\n",
       "        vertical-align: top;\n",
       "    }\n",
       "\n",
       "    .dataframe thead th {\n",
       "        text-align: right;\n",
       "    }\n",
       "</style>\n",
       "<table border=\"1\" class=\"dataframe\">\n",
       "  <thead>\n",
       "    <tr style=\"text-align: right;\">\n",
       "      <th></th>\n",
       "      <th>count</th>\n",
       "      <th>mean</th>\n",
       "      <th>std</th>\n",
       "      <th>min</th>\n",
       "      <th>25%</th>\n",
       "      <th>50%</th>\n",
       "      <th>75%</th>\n",
       "      <th>max</th>\n",
       "    </tr>\n",
       "    <tr>\n",
       "      <th>kernel</th>\n",
       "      <th></th>\n",
       "      <th></th>\n",
       "      <th></th>\n",
       "      <th></th>\n",
       "      <th></th>\n",
       "      <th></th>\n",
       "      <th></th>\n",
       "      <th></th>\n",
       "    </tr>\n",
       "  </thead>\n",
       "  <tbody>\n",
       "    <tr>\n",
       "      <th>numba</th>\n",
       "      <td>3319.0</td>\n",
       "      <td>0.001377</td>\n",
       "      <td>0.000225</td>\n",
       "      <td>0.001227</td>\n",
       "      <td>0.001258</td>\n",
       "      <td>0.001273</td>\n",
       "      <td>0.001398</td>\n",
       "      <td>0.003453</td>\n",
       "    </tr>\n",
       "    <tr>\n",
       "      <th>scipy</th>\n",
       "      <td>5834.0</td>\n",
       "      <td>0.000902</td>\n",
       "      <td>0.000205</td>\n",
       "      <td>0.000751</td>\n",
       "      <td>0.000775</td>\n",
       "      <td>0.000792</td>\n",
       "      <td>0.000950</td>\n",
       "      <td>0.002431</td>\n",
       "    </tr>\n",
       "  </tbody>\n",
       "</table>\n",
       "</div>"
      ],
      "text/plain": [
       "         count      mean       std       min       25%       50%       75%  \\\n",
       "kernel                                                                       \n",
       "numba   3319.0  0.001377  0.000225  0.001227  0.001258  0.001273  0.001398   \n",
       "scipy   5834.0  0.000902  0.000205  0.000751  0.000775  0.000792  0.000950   \n",
       "\n",
       "             max  \n",
       "kernel            \n",
       "numba   0.003453  \n",
       "scipy   0.002431  "
      ]
     },
     "execution_count": 5,
     "metadata": {},
     "output_type": "execute_result"
    }
   ],
   "source": [
    "mab = get_runs('MultAB')\n",
    "mab.groupby('kernel')['time'].describe()"
   ]
  },
  {
   "cell_type": "code",
   "execution_count": 6,
   "id": "subsequent-expression",
   "metadata": {},
   "outputs": [
    {
     "data": {
      "text/plain": [
       "[]"
      ]
     },
     "execution_count": 6,
     "metadata": {},
     "output_type": "execute_result"
    },
    {
     "data": {
      "image/png": "[encoded data removed]",
      "text/plain": [
       "<Figure size 360x360 with 1 Axes>"
      ]
     },
     "metadata": {
      "needs_background": "light"
     },
     "output_type": "display_data"
    }
   ],
   "source": [
    "sns.catplot(data=mab, x='kernel', y='time', kind='bar')\n",
    "plt.ylabel('S/Op')\n",
    "plt.plot()"
   ]
  },
  {
   "cell_type": "markdown",
   "id": "impossible-glasgow",
   "metadata": {},
   "source": [
    "### Sweep by Density\n",
    "\n",
    "We now measure sweeping a 100x100 square matrix multiply by increasing density."
   ]
  },
  {
   "cell_type": "code",
   "execution_count": 7,
   "id": "lonely-account",
   "metadata": {},
   "outputs": [],
   "source": [
    "dens = get_runs('MultAB-Density', 'density')"
   ]
  },
  {
   "cell_type": "code",
   "execution_count": 8,
   "id": "impressive-structure",
   "metadata": {},
   "outputs": [
    {
     "data": {
      "text/plain": [
       "<AxesSubplot:xlabel='density', ylabel='time'>"
      ]
     },
     "execution_count": 8,
     "metadata": {},
     "output_type": "execute_result"
    },
    {
     "data": {
      "image/png": "[encoded data removed]",
      "text/plain": [
       "<Figure size 432x288 with 1 Axes>"
      ]
     },
     "metadata": {
      "needs_background": "light"
     },
     "output_type": "display_data"
    }
   ],
   "source": [
    "sns.lineplot(data=dens, x='density', y='time', hue='kernel')"
   ]
  },
  {
   "cell_type": "markdown",
   "id": "german-april",
   "metadata": {},
   "source": [
    "## Matrix-Vector Multiplication\n",
    "\n",
    "Now we'll look at matrix/vector multiplication ($A\\vec{x}$)"
   ]
  },
  {
   "cell_type": "code",
   "execution_count": 9,
   "id": "recovered-companion",
   "metadata": {},
   "outputs": [
    {
     "data": {
      "text/html": [
       "<div>\n",
       "<style scoped>\n",
       "    .dataframe tbody tr th:only-of-type {\n",
       "        vertical-align: middle;\n",
       "    }\n",
       "\n",
       "    .dataframe tbody tr th {\n",
       "        vertical-align: top;\n",
       "    }\n",
       "\n",
       "    .dataframe thead th {\n",
       "        text-align: right;\n",
       "    }\n",
       "</style>\n",
       "<table border=\"1\" class=\"dataframe\">\n",
       "  <thead>\n",
       "    <tr style=\"text-align: right;\">\n",
       "      <th></th>\n",
       "      <th>count</th>\n",
       "      <th>mean</th>\n",
       "      <th>std</th>\n",
       "      <th>min</th>\n",
       "      <th>25%</th>\n",
       "      <th>50%</th>\n",
       "      <th>75%</th>\n",
       "      <th>max</th>\n",
       "    </tr>\n",
       "    <tr>\n",
       "      <th>kernel</th>\n",
       "      <th></th>\n",
       "      <th></th>\n",
       "      <th></th>\n",
       "      <th></th>\n",
       "      <th></th>\n",
       "      <th></th>\n",
       "      <th></th>\n",
       "      <th></th>\n",
       "    </tr>\n",
       "  </thead>\n",
       "  <tbody>\n",
       "    <tr>\n",
       "      <th>numba</th>\n",
       "      <td>14010.0</td>\n",
       "      <td>0.000255</td>\n",
       "      <td>0.000087</td>\n",
       "      <td>0.000206</td>\n",
       "      <td>0.000212</td>\n",
       "      <td>0.000215</td>\n",
       "      <td>0.000254</td>\n",
       "      <td>0.002398</td>\n",
       "    </tr>\n",
       "    <tr>\n",
       "      <th>scipy</th>\n",
       "      <td>84318.0</td>\n",
       "      <td>0.000050</td>\n",
       "      <td>0.000014</td>\n",
       "      <td>0.000044</td>\n",
       "      <td>0.000046</td>\n",
       "      <td>0.000046</td>\n",
       "      <td>0.000047</td>\n",
       "      <td>0.000488</td>\n",
       "    </tr>\n",
       "  </tbody>\n",
       "</table>\n",
       "</div>"
      ],
      "text/plain": [
       "          count      mean       std       min       25%       50%       75%  \\\n",
       "kernel                                                                        \n",
       "numba   14010.0  0.000255  0.000087  0.000206  0.000212  0.000215  0.000254   \n",
       "scipy   84318.0  0.000050  0.000014  0.000044  0.000046  0.000046  0.000047   \n",
       "\n",
       "             max  \n",
       "kernel            \n",
       "numba   0.002398  \n",
       "scipy   0.000488  "
      ]
     },
     "execution_count": 9,
     "metadata": {},
     "output_type": "execute_result"
    }
   ],
   "source": [
    "muax = get_runs('MultAx')\n",
    "muax.groupby('kernel')['time'].describe()"
   ]
  },
  {
   "cell_type": "code",
   "execution_count": 10,
   "id": "activated-morgan",
   "metadata": {},
   "outputs": [
    {
     "data": {
      "text/plain": [
       "[]"
      ]
     },
     "execution_count": 10,
     "metadata": {},
     "output_type": "execute_result"
    },
    {
     "data": {
      "image/png": "[encoded data removed]",
      "text/plain": [
       "<Figure size 360x360 with 1 Axes>"
      ]
     },
     "metadata": {
      "needs_background": "light"
     },
     "output_type": "display_data"
    }
   ],
   "source": [
    "sns.catplot(data=muax, x='kernel', y='time', kind='bar')\n",
    "plt.ylabel('S/Op')\n",
    "plt.plot()"
   ]
  }
 ],
 "metadata": {
  "kernelspec": {
   "display_name": "Python 3",
   "language": "python",
   "name": "python3"
  },
  "language_info": {
   "codemirror_mode": {
    "name": "ipython",
    "version": 3
   },
   "file_extension": ".py",
   "mimetype": "text/x-python",
   "name": "python",
   "nbconvert_exporter": "python",
   "pygments_lexer": "ipython3",
   "version": "3.7.9"
  }
 },
 "nbformat": 4,
 "nbformat_minor": 5
}
