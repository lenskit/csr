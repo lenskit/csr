{
 "cells": [
  {
   "cell_type": "markdown",
   "id": "convertible-convertible",
   "metadata": {},
   "source": [
    "# Timing Functions\n",
    "\n",
    "This notebook has the results of timing various CSR functions.  It uses the data produced by the benchmark suite and saved in `bench.json`; to prepare that data, run:\n",
    "\n",
    "    python -m pytest --benchmark-only"
   ]
  },
  {
   "cell_type": "code",
   "execution_count": 1,
   "id": "modular-relationship",
   "metadata": {},
   "outputs": [],
   "source": [
    "import json\n",
    "import numpy as np\n",
    "import scipy.sparse as sps\n",
    "import pandas as pd\n",
    "import matplotlib.pyplot as plt\n",
    "import seaborn as sns"
   ]
  },
  {
   "cell_type": "markdown",
   "id": "vulnerable-accuracy",
   "metadata": {},
   "source": [
    "Let's load the benchmark data:"
   ]
  },
  {
   "cell_type": "code",
   "execution_count": 2,
   "id": "terminal-karaoke",
   "metadata": {},
   "outputs": [
    {
     "data": {
      "text/plain": [
       "['machine_info', 'commit_info', 'benchmarks', 'datetime', 'version']"
      ]
     },
     "execution_count": 2,
     "metadata": {},
     "output_type": "execute_result"
    }
   ],
   "source": [
    "with open('bench.json', 'r') as jsf:\n",
    "    data = json.load(jsf)\n",
    "list(data.keys())"
   ]
  },
  {
   "cell_type": "markdown",
   "id": "parliamentary-melbourne",
   "metadata": {},
   "source": [
    "And define a function to get the various benchmark runs:"
   ]
  },
  {
   "cell_type": "code",
   "execution_count": 3,
   "id": "editorial-wednesday",
   "metadata": {},
   "outputs": [],
   "source": [
    "def get_runs(group, *params):\n",
    "    marks = [b for b in data['benchmarks'] if b['group'] == group]\n",
    "    ps = ['kernel'] + list(params)\n",
    "    runs = {}\n",
    "    for b in data['benchmarks']:\n",
    "        if b['group'] != group:\n",
    "            continue\n",
    "        \n",
    "        key = tuple(b['params'][p] for p in ps)\n",
    "        runs[key] = pd.Series(b['stats']['data'], name='time')\n",
    "    \n",
    "    runs = pd.concat(runs, names=ps)\n",
    "    runs = runs.reset_index(ps)\n",
    "    runs = runs.reset_index(drop=True)\n",
    "    return runs"
   ]
  },
  {
   "cell_type": "code",
   "execution_count": 4,
   "id": "dietary-latitude",
   "metadata": {},
   "outputs": [
    {
     "data": {
      "text/html": [
       "<div>\n",
       "<style scoped>\n",
       "    .dataframe tbody tr th:only-of-type {\n",
       "        vertical-align: middle;\n",
       "    }\n",
       "\n",
       "    .dataframe tbody tr th {\n",
       "        vertical-align: top;\n",
       "    }\n",
       "\n",
       "    .dataframe thead th {\n",
       "        text-align: right;\n",
       "    }\n",
       "</style>\n",
       "<table border=\"1\" class=\"dataframe\">\n",
       "  <thead>\n",
       "    <tr style=\"text-align: right;\">\n",
       "      <th></th>\n",
       "      <th>kernel</th>\n",
       "      <th>time</th>\n",
       "    </tr>\n",
       "  </thead>\n",
       "  <tbody>\n",
       "    <tr>\n",
       "      <th>0</th>\n",
       "      <td>scipy</td>\n",
       "      <td>0.000808</td>\n",
       "    </tr>\n",
       "    <tr>\n",
       "      <th>1</th>\n",
       "      <td>scipy</td>\n",
       "      <td>0.000810</td>\n",
       "    </tr>\n",
       "    <tr>\n",
       "      <th>2</th>\n",
       "      <td>scipy</td>\n",
       "      <td>0.000804</td>\n",
       "    </tr>\n",
       "    <tr>\n",
       "      <th>3</th>\n",
       "      <td>scipy</td>\n",
       "      <td>0.000805</td>\n",
       "    </tr>\n",
       "    <tr>\n",
       "      <th>4</th>\n",
       "      <td>scipy</td>\n",
       "      <td>0.000806</td>\n",
       "    </tr>\n",
       "    <tr>\n",
       "      <th>...</th>\n",
       "      <td>...</td>\n",
       "      <td>...</td>\n",
       "    </tr>\n",
       "    <tr>\n",
       "      <th>26736</th>\n",
       "      <td>mkl</td>\n",
       "      <td>0.000245</td>\n",
       "    </tr>\n",
       "    <tr>\n",
       "      <th>26737</th>\n",
       "      <td>mkl</td>\n",
       "      <td>0.000216</td>\n",
       "    </tr>\n",
       "    <tr>\n",
       "      <th>26738</th>\n",
       "      <td>mkl</td>\n",
       "      <td>0.000209</td>\n",
       "    </tr>\n",
       "    <tr>\n",
       "      <th>26739</th>\n",
       "      <td>mkl</td>\n",
       "      <td>0.000202</td>\n",
       "    </tr>\n",
       "    <tr>\n",
       "      <th>26740</th>\n",
       "      <td>mkl</td>\n",
       "      <td>0.000214</td>\n",
       "    </tr>\n",
       "  </tbody>\n",
       "</table>\n",
       "<p>26741 rows × 2 columns</p>\n",
       "</div>"
      ],
      "text/plain": [
       "      kernel      time\n",
       "0      scipy  0.000808\n",
       "1      scipy  0.000810\n",
       "2      scipy  0.000804\n",
       "3      scipy  0.000805\n",
       "4      scipy  0.000806\n",
       "...      ...       ...\n",
       "26736    mkl  0.000245\n",
       "26737    mkl  0.000216\n",
       "26738    mkl  0.000209\n",
       "26739    mkl  0.000202\n",
       "26740    mkl  0.000214\n",
       "\n",
       "[26741 rows x 2 columns]"
      ]
     },
     "execution_count": 4,
     "metadata": {},
     "output_type": "execute_result"
    }
   ],
   "source": [
    "get_runs('MultAB')"
   ]
  },
  {
   "cell_type": "markdown",
   "id": "terminal-edwards",
   "metadata": {},
   "source": [
    "## Matrix Multiplication\n",
    "\n",
    "Our first benchmark is a simple matrix multiplication."
   ]
  },
  {
   "cell_type": "code",
   "execution_count": 5,
   "id": "irish-radio",
   "metadata": {},
   "outputs": [
    {
     "data": {
      "text/html": [
       "<div>\n",
       "<style scoped>\n",
       "    .dataframe tbody tr th:only-of-type {\n",
       "        vertical-align: middle;\n",
       "    }\n",
       "\n",
       "    .dataframe tbody tr th {\n",
       "        vertical-align: top;\n",
       "    }\n",
       "\n",
       "    .dataframe thead th {\n",
       "        text-align: right;\n",
       "    }\n",
       "</style>\n",
       "<table border=\"1\" class=\"dataframe\">\n",
       "  <thead>\n",
       "    <tr style=\"text-align: right;\">\n",
       "      <th></th>\n",
       "      <th>count</th>\n",
       "      <th>mean</th>\n",
       "      <th>std</th>\n",
       "      <th>min</th>\n",
       "      <th>25%</th>\n",
       "      <th>50%</th>\n",
       "      <th>75%</th>\n",
       "      <th>max</th>\n",
       "    </tr>\n",
       "    <tr>\n",
       "      <th>kernel</th>\n",
       "      <th></th>\n",
       "      <th></th>\n",
       "      <th></th>\n",
       "      <th></th>\n",
       "      <th></th>\n",
       "      <th></th>\n",
       "      <th></th>\n",
       "      <th></th>\n",
       "    </tr>\n",
       "  </thead>\n",
       "  <tbody>\n",
       "    <tr>\n",
       "      <th>mkl</th>\n",
       "      <td>14331.0</td>\n",
       "      <td>0.227966</td>\n",
       "      <td>0.034474</td>\n",
       "      <td>0.1657</td>\n",
       "      <td>0.2073</td>\n",
       "      <td>0.2191</td>\n",
       "      <td>0.237300</td>\n",
       "      <td>0.5052</td>\n",
       "    </tr>\n",
       "    <tr>\n",
       "      <th>numba</th>\n",
       "      <td>6274.0</td>\n",
       "      <td>0.811788</td>\n",
       "      <td>0.126416</td>\n",
       "      <td>0.7425</td>\n",
       "      <td>0.7546</td>\n",
       "      <td>0.7680</td>\n",
       "      <td>0.794775</td>\n",
       "      <td>1.8548</td>\n",
       "    </tr>\n",
       "    <tr>\n",
       "      <th>scipy</th>\n",
       "      <td>6136.0</td>\n",
       "      <td>0.795902</td>\n",
       "      <td>0.059168</td>\n",
       "      <td>0.7657</td>\n",
       "      <td>0.7723</td>\n",
       "      <td>0.7757</td>\n",
       "      <td>0.785800</td>\n",
       "      <td>1.6409</td>\n",
       "    </tr>\n",
       "  </tbody>\n",
       "</table>\n",
       "</div>"
      ],
      "text/plain": [
       "          count      mean       std     min     25%     50%       75%     max\n",
       "kernel                                                                       \n",
       "mkl     14331.0  0.227966  0.034474  0.1657  0.2073  0.2191  0.237300  0.5052\n",
       "numba    6274.0  0.811788  0.126416  0.7425  0.7546  0.7680  0.794775  1.8548\n",
       "scipy    6136.0  0.795902  0.059168  0.7657  0.7723  0.7757  0.785800  1.6409"
      ]
     },
     "execution_count": 5,
     "metadata": {},
     "output_type": "execute_result"
    }
   ],
   "source": [
    "mab = get_runs('MultAB')\n",
    "mab['time'] *= 1000\n",
    "mab.groupby('kernel')['time'].describe()"
   ]
  },
  {
   "cell_type": "code",
   "execution_count": 7,
   "id": "subsequent-expression",
   "metadata": {},
   "outputs": [
    {
     "data": {
      "image/png": "[encoded data removed]",
      "text/plain": [
       "<Figure size 360x360 with 1 Axes>"
      ]
     },
     "metadata": {
      "needs_background": "light"
     },
     "output_type": "display_data"
    }
   ],
   "source": [
    "sns.catplot(data=mab, x='kernel', y='time', kind='bar')\n",
    "plt.ylabel('ms / op')\n",
    "plt.show()"
   ]
  },
  {
   "cell_type": "markdown",
   "id": "intellectual-nylon",
   "metadata": {},
   "source": [
    "And multiplying by the transpose:"
   ]
  },
  {
   "cell_type": "code",
   "execution_count": 8,
   "id": "joined-movement",
   "metadata": {},
   "outputs": [
    {
     "data": {
      "text/html": [
       "<div>\n",
       "<style scoped>\n",
       "    .dataframe tbody tr th:only-of-type {\n",
       "        vertical-align: middle;\n",
       "    }\n",
       "\n",
       "    .dataframe tbody tr th {\n",
       "        vertical-align: top;\n",
       "    }\n",
       "\n",
       "    .dataframe thead th {\n",
       "        text-align: right;\n",
       "    }\n",
       "</style>\n",
       "<table border=\"1\" class=\"dataframe\">\n",
       "  <thead>\n",
       "    <tr style=\"text-align: right;\">\n",
       "      <th></th>\n",
       "      <th>count</th>\n",
       "      <th>mean</th>\n",
       "      <th>std</th>\n",
       "      <th>min</th>\n",
       "      <th>25%</th>\n",
       "      <th>50%</th>\n",
       "      <th>75%</th>\n",
       "      <th>max</th>\n",
       "    </tr>\n",
       "    <tr>\n",
       "      <th>kernel</th>\n",
       "      <th></th>\n",
       "      <th></th>\n",
       "      <th></th>\n",
       "      <th></th>\n",
       "      <th></th>\n",
       "      <th></th>\n",
       "      <th></th>\n",
       "      <th></th>\n",
       "    </tr>\n",
       "  </thead>\n",
       "  <tbody>\n",
       "    <tr>\n",
       "      <th>mkl</th>\n",
       "      <td>13874.0</td>\n",
       "      <td>0.309582</td>\n",
       "      <td>0.025725</td>\n",
       "      <td>0.2535</td>\n",
       "      <td>0.292925</td>\n",
       "      <td>0.3062</td>\n",
       "      <td>0.3209</td>\n",
       "      <td>0.6842</td>\n",
       "    </tr>\n",
       "    <tr>\n",
       "      <th>numba</th>\n",
       "      <td>5790.0</td>\n",
       "      <td>0.845447</td>\n",
       "      <td>0.083694</td>\n",
       "      <td>0.7972</td>\n",
       "      <td>0.806800</td>\n",
       "      <td>0.8214</td>\n",
       "      <td>0.8408</td>\n",
       "      <td>1.7381</td>\n",
       "    </tr>\n",
       "    <tr>\n",
       "      <th>scipy</th>\n",
       "      <td>4730.0</td>\n",
       "      <td>0.969985</td>\n",
       "      <td>0.101039</td>\n",
       "      <td>0.9129</td>\n",
       "      <td>0.926500</td>\n",
       "      <td>0.9392</td>\n",
       "      <td>0.9520</td>\n",
       "      <td>2.2749</td>\n",
       "    </tr>\n",
       "  </tbody>\n",
       "</table>\n",
       "</div>"
      ],
      "text/plain": [
       "          count      mean       std     min       25%     50%     75%     max\n",
       "kernel                                                                       \n",
       "mkl     13874.0  0.309582  0.025725  0.2535  0.292925  0.3062  0.3209  0.6842\n",
       "numba    5790.0  0.845447  0.083694  0.7972  0.806800  0.8214  0.8408  1.7381\n",
       "scipy    4730.0  0.969985  0.101039  0.9129  0.926500  0.9392  0.9520  2.2749"
      ]
     },
     "execution_count": 8,
     "metadata": {},
     "output_type": "execute_result"
    }
   ],
   "source": [
    "mab = get_runs('MultABt')\n",
    "mab['time'] *= 1000\n",
    "mab.groupby('kernel')['time'].describe()"
   ]
  },
  {
   "cell_type": "code",
   "execution_count": 9,
   "id": "objective-czech",
   "metadata": {},
   "outputs": [
    {
     "data": {
      "text/plain": [
       "[]"
      ]
     },
     "execution_count": 9,
     "metadata": {},
     "output_type": "execute_result"
    },
    {
     "data": {
      "image/png": "[encoded data removed]",
      "text/plain": [
       "<Figure size 360x360 with 1 Axes>"
      ]
     },
     "metadata": {
      "needs_background": "light"
     },
     "output_type": "display_data"
    }
   ],
   "source": [
    "sns.catplot(data=mab, x='kernel', y='time', kind='bar')\n",
    "plt.ylabel('ms / op')\n",
    "plt.plot()"
   ]
  },
  {
   "cell_type": "markdown",
   "id": "impossible-glasgow",
   "metadata": {},
   "source": [
    "### Sweep by Density\n",
    "\n",
    "We now measure sweeping a 100x100 square matrix multiply by increasing density."
   ]
  },
  {
   "cell_type": "code",
   "execution_count": 10,
   "id": "lonely-account",
   "metadata": {},
   "outputs": [],
   "source": [
    "dens = get_runs('MultAB-Density', 'density')\n",
    "dens['time'] *= 1000"
   ]
  },
  {
   "cell_type": "code",
   "execution_count": 11,
   "id": "impressive-structure",
   "metadata": {},
   "outputs": [
    {
     "data": {
      "image/png": "[encoded data removed]",
      "text/plain": [
       "<Figure size 432x288 with 1 Axes>"
      ]
     },
     "metadata": {
      "needs_background": "light"
     },
     "output_type": "display_data"
    }
   ],
   "source": [
    "sns.lineplot(data=dens, x='density', y='time', hue='kernel')\n",
    "plt.title('AB (100x100 square)')\n",
    "plt.ylabel('ms/op')\n",
    "plt.show()"
   ]
  },
  {
   "cell_type": "markdown",
   "id": "accepting-oklahoma",
   "metadata": {},
   "source": [
    "And the transpose:"
   ]
  },
  {
   "cell_type": "code",
   "execution_count": 14,
   "id": "fancy-norfolk",
   "metadata": {},
   "outputs": [],
   "source": [
    "dens = get_runs('MultABt-Density', 'density')\n",
    "dens['time'] *= 1000"
   ]
  },
  {
   "cell_type": "code",
   "execution_count": 15,
   "id": "forward-behavior",
   "metadata": {},
   "outputs": [
    {
     "data": {
      "image/png": "[encoded data removed]",
      "text/plain": [
       "<Figure size 432x288 with 1 Axes>"
      ]
     },
     "metadata": {
      "needs_background": "light"
     },
     "output_type": "display_data"
    }
   ],
   "source": [
    "sns.lineplot(data=dens, x='density', y='time', hue='kernel')\n",
    "plt.title('AB\\' (100x100 square)')\n",
    "plt.ylabel('ms/op')\n",
    "plt.show()"
   ]
  },
  {
   "cell_type": "markdown",
   "id": "selected-redhead",
   "metadata": {},
   "source": [
    "### Sweep by Size\n",
    "\n",
    "We now measure sweeping a 10% square matrix multiply by increasing size."
   ]
  },
  {
   "cell_type": "code",
   "execution_count": 16,
   "id": "liable-slovenia",
   "metadata": {},
   "outputs": [],
   "source": [
    "sizes = get_runs('MultAB-Size', 'size')\n",
    "sizes['time'] *= 1000"
   ]
  },
  {
   "cell_type": "code",
   "execution_count": 17,
   "id": "introductory-clerk",
   "metadata": {},
   "outputs": [
    {
     "data": {
      "image/png": "[encoded data removed]",
      "text/plain": [
       "<Figure size 432x288 with 1 Axes>"
      ]
     },
     "metadata": {
      "needs_background": "light"
     },
     "output_type": "display_data"
    }
   ],
   "source": [
    "sns.lineplot(data=sizes, x='size', y='time', hue='kernel')\n",
    "plt.title('AB (square, 10%)')\n",
    "plt.ylabel('ms/op')\n",
    "plt.show()"
   ]
  },
  {
   "cell_type": "markdown",
   "id": "difficult-council",
   "metadata": {},
   "source": [
    "## Matrix-Vector Multiplication\n",
    "\n",
    "Now we'll look at matrix/vector multiplication ($A\\vec{x}$)"
   ]
  },
  {
   "cell_type": "code",
   "execution_count": 18,
   "id": "defensive-multiple",
   "metadata": {},
   "outputs": [
    {
     "data": {
      "text/html": [
       "<div>\n",
       "<style scoped>\n",
       "    .dataframe tbody tr th:only-of-type {\n",
       "        vertical-align: middle;\n",
       "    }\n",
       "\n",
       "    .dataframe tbody tr th {\n",
       "        vertical-align: top;\n",
       "    }\n",
       "\n",
       "    .dataframe thead th {\n",
       "        text-align: right;\n",
       "    }\n",
       "</style>\n",
       "<table border=\"1\" class=\"dataframe\">\n",
       "  <thead>\n",
       "    <tr style=\"text-align: right;\">\n",
       "      <th></th>\n",
       "      <th>count</th>\n",
       "      <th>mean</th>\n",
       "      <th>std</th>\n",
       "      <th>min</th>\n",
       "      <th>25%</th>\n",
       "      <th>50%</th>\n",
       "      <th>75%</th>\n",
       "      <th>max</th>\n",
       "    </tr>\n",
       "    <tr>\n",
       "      <th>kernel</th>\n",
       "      <th></th>\n",
       "      <th></th>\n",
       "      <th></th>\n",
       "      <th></th>\n",
       "      <th></th>\n",
       "      <th></th>\n",
       "      <th></th>\n",
       "      <th></th>\n",
       "    </tr>\n",
       "  </thead>\n",
       "  <tbody>\n",
       "    <tr>\n",
       "      <th>mkl</th>\n",
       "      <td>70722.0</td>\n",
       "      <td>0.016522</td>\n",
       "      <td>0.005273</td>\n",
       "      <td>0.0128</td>\n",
       "      <td>0.0140</td>\n",
       "      <td>0.0145</td>\n",
       "      <td>0.0180</td>\n",
       "      <td>0.1883</td>\n",
       "    </tr>\n",
       "    <tr>\n",
       "      <th>numba</th>\n",
       "      <td>149254.0</td>\n",
       "      <td>0.012597</td>\n",
       "      <td>0.002766</td>\n",
       "      <td>0.0118</td>\n",
       "      <td>0.0122</td>\n",
       "      <td>0.0123</td>\n",
       "      <td>0.0124</td>\n",
       "      <td>0.1481</td>\n",
       "    </tr>\n",
       "    <tr>\n",
       "      <th>scipy</th>\n",
       "      <td>31606.0</td>\n",
       "      <td>0.054542</td>\n",
       "      <td>0.008506</td>\n",
       "      <td>0.0511</td>\n",
       "      <td>0.0525</td>\n",
       "      <td>0.0529</td>\n",
       "      <td>0.0535</td>\n",
       "      <td>0.2450</td>\n",
       "    </tr>\n",
       "  </tbody>\n",
       "</table>\n",
       "</div>"
      ],
      "text/plain": [
       "           count      mean       std     min     25%     50%     75%     max\n",
       "kernel                                                                      \n",
       "mkl      70722.0  0.016522  0.005273  0.0128  0.0140  0.0145  0.0180  0.1883\n",
       "numba   149254.0  0.012597  0.002766  0.0118  0.0122  0.0123  0.0124  0.1481\n",
       "scipy    31606.0  0.054542  0.008506  0.0511  0.0525  0.0529  0.0535  0.2450"
      ]
     },
     "execution_count": 18,
     "metadata": {},
     "output_type": "execute_result"
    }
   ],
   "source": [
    "muax = get_runs('MultAx')\n",
    "muax['time'] *= 1000\n",
    "muax.groupby('kernel')['time'].describe()"
   ]
  },
  {
   "cell_type": "code",
   "execution_count": null,
   "id": "compound-tennis",
   "metadata": {},
   "outputs": [],
   "source": [
    "sns.catplot(data=muax, x='kernel', y='time', kind='bar')\n",
    "plt.ylabel('ms / op')\n",
    "plt.show()"
   ]
  },
  {
   "cell_type": "code",
   "execution_count": null,
   "id": "pressing-links",
   "metadata": {},
   "outputs": [],
   "source": []
  }
 ],
 "metadata": {
  "kernelspec": {
   "display_name": "Python 3",
   "language": "python",
   "name": "python3"
  },
  "language_info": {
   "codemirror_mode": {
    "name": "ipython",
    "version": 3
   },
   "file_extension": ".py",
   "mimetype": "text/x-python",
   "name": "python",
   "nbconvert_exporter": "python",
   "pygments_lexer": "ipython3",
   "version": "3.8.6"
  }
 },
 "nbformat": 4,
 "nbformat_minor": 5
}
