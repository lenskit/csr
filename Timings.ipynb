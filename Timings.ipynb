{
 "cells": [
  {
   "cell_type": "markdown",
   "id": "convertible-convertible",
   "metadata": {},
   "source": [
    "# Timing Functions\n",
    "\n",
    "This notebook has the results of timing various CSR functions."
   ]
  },
  {
   "cell_type": "code",
   "execution_count": 1,
   "id": "invalid-graham",
   "metadata": {},
   "outputs": [],
   "source": [
    "import timeit"
   ]
  },
  {
   "cell_type": "code",
   "execution_count": 2,
   "id": "modular-relationship",
   "metadata": {},
   "outputs": [],
   "source": [
    "import numpy as np\n",
    "import scipy.sparse as sps\n",
    "import matplotlib.pyplot as plt"
   ]
  },
  {
   "cell_type": "code",
   "execution_count": 3,
   "id": "conditional-string",
   "metadata": {},
   "outputs": [],
   "source": [
    "from tqdm.auto import tqdm"
   ]
  },
  {
   "cell_type": "code",
   "execution_count": 4,
   "id": "fitting-tongue",
   "metadata": {},
   "outputs": [],
   "source": [
    "from csr import CSR"
   ]
  },
  {
   "cell_type": "code",
   "execution_count": 5,
   "id": "adaptive-astrology",
   "metadata": {},
   "outputs": [],
   "source": [
    "np.random.seed(20210202)"
   ]
  },
  {
   "cell_type": "markdown",
   "id": "terminal-edwards",
   "metadata": {},
   "source": [
    "## Matrix Multiply\n",
    "\n",
    "Let's do some matrix multiplication - a quick timing of two functions on a single matrix:"
   ]
  },
  {
   "cell_type": "code",
   "execution_count": 6,
   "id": "macro-socket",
   "metadata": {},
   "outputs": [],
   "source": [
    "A = sps.random(100, 500, 0.1, format='csr')\n",
    "B = sps.random(500, 200, 0.2, format='csr')"
   ]
  },
  {
   "cell_type": "markdown",
   "id": "jewish-public",
   "metadata": {},
   "source": [
    "Convert to CSR, and do one multiplication to compile the kernel:"
   ]
  },
  {
   "cell_type": "code",
   "execution_count": 7,
   "id": "expanded-heritage",
   "metadata": {},
   "outputs": [],
   "source": [
    "Ac = CSR.from_scipy(A)\n",
    "Bc = CSR.from_scipy(B)\n",
    "Cc = Ac.multiply(Bc)"
   ]
  },
  {
   "cell_type": "markdown",
   "id": "loved-driver",
   "metadata": {},
   "source": [
    "SciPy:"
   ]
  },
  {
   "cell_type": "code",
   "execution_count": 8,
   "id": "outside-commissioner",
   "metadata": {},
   "outputs": [
    {
     "name": "stdout",
     "output_type": "stream",
     "text": [
      "1000 loops, best of 5: 695 µs per loop\n"
     ]
    }
   ],
   "source": [
    "%timeit C = A @ B"
   ]
  },
  {
   "cell_type": "markdown",
   "id": "thirty-dining",
   "metadata": {},
   "source": [
    "CSR with Numba kernel:"
   ]
  },
  {
   "cell_type": "code",
   "execution_count": 9,
   "id": "applied-holiday",
   "metadata": {},
   "outputs": [
    {
     "name": "stdout",
     "output_type": "stream",
     "text": [
      "1000 loops, best of 5: 863 µs per loop\n"
     ]
    }
   ],
   "source": [
    "%timeit Cc = Ac.multiply(Bc)"
   ]
  },
  {
   "cell_type": "markdown",
   "id": "threatened-authorization",
   "metadata": {},
   "source": [
    "Let's start sweeping timings. We'll make a function to do this:"
   ]
  },
  {
   "cell_type": "code",
   "execution_count": 39,
   "id": "qualified-indicator",
   "metadata": {},
   "outputs": [],
   "source": [
    "NRUNS = 1000\n",
    "def time_multiply(m, n, l, dens, op, number=NRUNS):\n",
    "    A = sps.random(m, n, dens, format='csr')\n",
    "    B = sps.random(n, l, dens, format='csr')\n",
    "    A = op.prepare(A)\n",
    "    B = op.prepare(B)\n",
    "        \n",
    "    def func():\n",
    "        op(A, B)\n",
    "    \n",
    "    return timeit.timeit(func, number=number)"
   ]
  },
  {
   "cell_type": "code",
   "execution_count": 40,
   "id": "utility-transmission",
   "metadata": {},
   "outputs": [],
   "source": [
    "def op_sps_mult(A, B):\n",
    "    A @ B\n",
    "op_sps_mult.prepare = lambda x: x\n",
    "\n",
    "def op_csr_mult(A, B):\n",
    "    A.multiply(B)\n",
    "op_csr_mult.prepare = CSR.from_scipy"
   ]
  },
  {
   "cell_type": "code",
   "execution_count": 41,
   "id": "military-variation",
   "metadata": {},
   "outputs": [
    {
     "data": {
      "text/plain": [
       "0.19204849999914586"
      ]
     },
     "execution_count": 41,
     "metadata": {},
     "output_type": "execute_result"
    }
   ],
   "source": [
    "time_multiply(100, 100, 100, 0.1, op_sps_mult)"
   ]
  },
  {
   "cell_type": "code",
   "execution_count": 42,
   "id": "decreased-chaos",
   "metadata": {},
   "outputs": [
    {
     "data": {
      "text/plain": [
       "0.2633488999999827"
      ]
     },
     "execution_count": 42,
     "metadata": {},
     "output_type": "execute_result"
    }
   ],
   "source": [
    "time_multiply(100, 100, 100, 0.1, op_csr_mult)"
   ]
  },
  {
   "cell_type": "code",
   "execution_count": 43,
   "id": "hungry-construction",
   "metadata": {},
   "outputs": [
    {
     "name": "stdout",
     "output_type": "stream",
     "text": [
      " "
     ]
    }
   ],
   "source": [
    "%prun time_multiply(100, 100, 100, 0.1, op_sps_mult, 10000)"
   ]
  },
  {
   "cell_type": "code",
   "execution_count": 45,
   "id": "forty-wrapping",
   "metadata": {},
   "outputs": [
    {
     "name": "stdout",
     "output_type": "stream",
     "text": [
      " "
     ]
    }
   ],
   "source": [
    "%prun time_multiply(1000, 1000, 1000, 0.1, op_csr_mult, 500)"
   ]
  },
  {
   "cell_type": "markdown",
   "id": "honey-breed",
   "metadata": {},
   "source": [
    "### Sweep by Density\n",
    "\n",
    "Let's measure time by the matrix density for a fixed size (100x100x100):"
   ]
  },
  {
   "cell_type": "code",
   "execution_count": 46,
   "id": "important-moisture",
   "metadata": {},
   "outputs": [
    {
     "data": {
      "application/vnd.jupyter.widget-view+json": {
       "model_id": "18484cdaa42848379398664b0998eda3",
       "version_major": 2,
       "version_minor": 0
      },
      "text/plain": [
       "  0%|          | 0/10 [00:00<?, ?it/s]"
      ]
     },
     "metadata": {},
     "output_type": "display_data"
    },
    {
     "data": {
      "application/vnd.jupyter.widget-view+json": {
       "model_id": "78ad9d3c559b4135b92c90473ba91dcc",
       "version_major": 2,
       "version_minor": 0
      },
      "text/plain": [
       "  0%|          | 0/10 [00:00<?, ?it/s]"
      ]
     },
     "metadata": {},
     "output_type": "display_data"
    }
   ],
   "source": [
    "densities = np.linspace(0, 1, 10)\n",
    "sps_times = [time_multiply(100, 100, 100, d, op_sps_mult) for d in tqdm(densities)]\n",
    "csr_times = [time_multiply(100, 100, 100, d, op_csr_mult) for d in tqdm(densities)]"
   ]
  },
  {
   "cell_type": "code",
   "execution_count": 47,
   "id": "convenient-tackle",
   "metadata": {},
   "outputs": [
    {
     "data": {
      "text/plain": [
       "<matplotlib.legend.Legend at 0x1b480096ec8>"
      ]
     },
     "execution_count": 47,
     "metadata": {},
     "output_type": "execute_result"
    },
    {
     "data": {
      "image/png": "[encoded data removed]",
      "text/plain": [
       "<Figure size 432x288 with 1 Axes>"
      ]
     },
     "metadata": {
      "needs_background": "light"
     },
     "output_type": "display_data"
    }
   ],
   "source": [
    "plt.plot(densities, sps_times, label='scipy')\n",
    "plt.plot(densities, csr_times, label='CSR')\n",
    "plt.xlabel('Density')\n",
    "plt.ylabel(f'Seconds for {NRUNS} runs')\n",
    "plt.title('Multiplication for 100x100x100 matrices')\n",
    "plt.legend()"
   ]
  },
  {
   "cell_type": "code",
   "execution_count": 49,
   "id": "crucial-wallpaper",
   "metadata": {},
   "outputs": [
    {
     "data": {
      "text/plain": [
       "<matplotlib.legend.Legend at 0x1b48003ce08>"
      ]
     },
     "execution_count": 49,
     "metadata": {},
     "output_type": "execute_result"
    },
    {
     "data": {
      "image/png": "[encoded data removed]",
      "text/plain": [
       "<Figure size 432x288 with 1 Axes>"
      ]
     },
     "metadata": {
      "needs_background": "light"
     },
     "output_type": "display_data"
    }
   ],
   "source": [
    "plt.plot(densities, np.array(csr_times) / sps_times - 1, label='CSR')\n",
    "plt.xlabel('Density')\n",
    "plt.ylabel(f'Slowdown')\n",
    "plt.title('Multiplication for 100x100x100 matrices')\n",
    "plt.legend()"
   ]
  },
  {
   "cell_type": "markdown",
   "id": "persistent-business",
   "metadata": {},
   "source": [
    "### Sweep by Size\n",
    "\n",
    "Let's measure for a square matrix with fixed density (0.1)."
   ]
  },
  {
   "cell_type": "code",
   "execution_count": null,
   "id": "chronic-ministry",
   "metadata": {},
   "outputs": [
    {
     "data": {
      "application/vnd.jupyter.widget-view+json": {
       "model_id": "06b63a065c154634a599c3509a98710f",
       "version_major": 2,
       "version_minor": 0
      },
      "text/plain": [
       "  0%|          | 0/11 [00:00<?, ?it/s]"
      ]
     },
     "metadata": {},
     "output_type": "display_data"
    }
   ],
   "source": [
    "sizes = [5, 10, 25, 50, 100, 200, 500, 1000, 2000, 3000, 5000]\n",
    "sps_times = [time_multiply(s, s, s, 0.1, op_sps_mult) for s in tqdm(sizes)]\n",
    "csr_times = [time_multiply(s, s, s, 0.1, op_csr_mult) for s in tqdm(sizes)]"
   ]
  },
  {
   "cell_type": "code",
   "execution_count": null,
   "id": "adult-tension",
   "metadata": {},
   "outputs": [],
   "source": [
    "plt.plot(sizes, sps_times, label='scipy')\n",
    "plt.plot(sizes, csr_times, label='CSR')\n",
    "plt.xlabel('Matrix size')\n",
    "plt.ylabel(f'Seconds for {NRUNS} runs')\n",
    "plt.title('Multiplication of square matrices (density = 10%)')\n",
    "plt.legend()"
   ]
  },
  {
   "cell_type": "code",
   "execution_count": null,
   "id": "irish-radio",
   "metadata": {},
   "outputs": [],
   "source": []
  }
 ],
 "metadata": {
  "kernelspec": {
   "display_name": "Python 3",
   "language": "python",
   "name": "python3"
  },
  "language_info": {
   "codemirror_mode": {
    "name": "ipython",
    "version": 3
   },
   "file_extension": ".py",
   "mimetype": "text/x-python",
   "name": "python",
   "nbconvert_exporter": "python",
   "pygments_lexer": "ipython3",
   "version": "3.7.9"
  }
 },
 "nbformat": 4,
 "nbformat_minor": 5
}
