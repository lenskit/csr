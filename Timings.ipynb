{
 "cells": [
  {
   "cell_type": "markdown",
   "id": "convertible-convertible",
   "metadata": {},
   "source": [
    "# Timing Functions\n",
    "\n",
    "This notebook has the results of timing various CSR functions.  It uses the data produced by the benchmark suite and saved in `bench.json`; to prepare that data, run:\n",
    "\n",
    "    python -m pytest --benchmark-only"
   ]
  },
  {
   "cell_type": "code",
   "execution_count": 1,
   "id": "modular-relationship",
   "metadata": {},
   "outputs": [],
   "source": [
    "import json\n",
    "import numpy as np\n",
    "import scipy.sparse as sps\n",
    "import pandas as pd\n",
    "import matplotlib.pyplot as plt\n",
    "import seaborn as sns"
   ]
  },
  {
   "cell_type": "markdown",
   "id": "vulnerable-accuracy",
   "metadata": {},
   "source": [
    "Let's load the benchmark data:"
   ]
  },
  {
   "cell_type": "code",
   "execution_count": 2,
   "id": "terminal-karaoke",
   "metadata": {},
   "outputs": [
    {
     "data": {
      "text/plain": [
       "['machine_info', 'commit_info', 'benchmarks', 'datetime', 'version']"
      ]
     },
     "execution_count": 2,
     "metadata": {},
     "output_type": "execute_result"
    }
   ],
   "source": [
    "with open('bench.json', 'r') as jsf:\n",
    "    data = json.load(jsf)\n",
    "list(data.keys())"
   ]
  },
  {
   "cell_type": "markdown",
   "id": "parliamentary-melbourne",
   "metadata": {},
   "source": [
    "And define a function to get the various benchmark runs:"
   ]
  },
  {
   "cell_type": "code",
   "execution_count": 3,
   "id": "editorial-wednesday",
   "metadata": {},
   "outputs": [],
   "source": [
    "def get_runs(group, *params):\n",
    "    marks = [b for b in data['benchmarks'] if b['group'] == group]\n",
    "    ps = ['kernel'] + list(params)\n",
    "    runs = {}\n",
    "    for b in data['benchmarks']:\n",
    "        if b['group'] != group:\n",
    "            continue\n",
    "        \n",
    "        key = tuple(b['params'][p] for p in ps)\n",
    "        runs[key] = pd.Series(b['stats']['data'], name='time')\n",
    "    \n",
    "    runs = pd.concat(runs, names=ps)\n",
    "    runs = runs.reset_index(ps)\n",
    "    runs = runs.reset_index(drop=True)\n",
    "    return runs"
   ]
  },
  {
   "cell_type": "code",
   "execution_count": 4,
   "id": "dietary-latitude",
   "metadata": {},
   "outputs": [
    {
     "data": {
      "text/html": [
       "<div>\n",
       "<style scoped>\n",
       "    .dataframe tbody tr th:only-of-type {\n",
       "        vertical-align: middle;\n",
       "    }\n",
       "\n",
       "    .dataframe tbody tr th {\n",
       "        vertical-align: top;\n",
       "    }\n",
       "\n",
       "    .dataframe thead th {\n",
       "        text-align: right;\n",
       "    }\n",
       "</style>\n",
       "<table border=\"1\" class=\"dataframe\">\n",
       "  <thead>\n",
       "    <tr style=\"text-align: right;\">\n",
       "      <th></th>\n",
       "      <th>kernel</th>\n",
       "      <th>time</th>\n",
       "    </tr>\n",
       "  </thead>\n",
       "  <tbody>\n",
       "    <tr>\n",
       "      <th>0</th>\n",
       "      <td>scipy</td>\n",
       "      <td>0.000789</td>\n",
       "    </tr>\n",
       "    <tr>\n",
       "      <th>1</th>\n",
       "      <td>scipy</td>\n",
       "      <td>0.000789</td>\n",
       "    </tr>\n",
       "    <tr>\n",
       "      <th>2</th>\n",
       "      <td>scipy</td>\n",
       "      <td>0.000783</td>\n",
       "    </tr>\n",
       "    <tr>\n",
       "      <th>3</th>\n",
       "      <td>scipy</td>\n",
       "      <td>0.000788</td>\n",
       "    </tr>\n",
       "    <tr>\n",
       "      <th>4</th>\n",
       "      <td>scipy</td>\n",
       "      <td>0.000828</td>\n",
       "    </tr>\n",
       "    <tr>\n",
       "      <th>...</th>\n",
       "      <td>...</td>\n",
       "      <td>...</td>\n",
       "    </tr>\n",
       "    <tr>\n",
       "      <th>12441</th>\n",
       "      <td>numba</td>\n",
       "      <td>0.000832</td>\n",
       "    </tr>\n",
       "    <tr>\n",
       "      <th>12442</th>\n",
       "      <td>numba</td>\n",
       "      <td>0.000820</td>\n",
       "    </tr>\n",
       "    <tr>\n",
       "      <th>12443</th>\n",
       "      <td>numba</td>\n",
       "      <td>0.000816</td>\n",
       "    </tr>\n",
       "    <tr>\n",
       "      <th>12444</th>\n",
       "      <td>numba</td>\n",
       "      <td>0.000924</td>\n",
       "    </tr>\n",
       "    <tr>\n",
       "      <th>12445</th>\n",
       "      <td>numba</td>\n",
       "      <td>0.000818</td>\n",
       "    </tr>\n",
       "  </tbody>\n",
       "</table>\n",
       "<p>12446 rows × 2 columns</p>\n",
       "</div>"
      ],
      "text/plain": [
       "      kernel      time\n",
       "0      scipy  0.000789\n",
       "1      scipy  0.000789\n",
       "2      scipy  0.000783\n",
       "3      scipy  0.000788\n",
       "4      scipy  0.000828\n",
       "...      ...       ...\n",
       "12441  numba  0.000832\n",
       "12442  numba  0.000820\n",
       "12443  numba  0.000816\n",
       "12444  numba  0.000924\n",
       "12445  numba  0.000818\n",
       "\n",
       "[12446 rows x 2 columns]"
      ]
     },
     "execution_count": 4,
     "metadata": {},
     "output_type": "execute_result"
    }
   ],
   "source": [
    "get_runs('MultAB')"
   ]
  },
  {
   "cell_type": "markdown",
   "id": "terminal-edwards",
   "metadata": {},
   "source": [
    "## Matrix Multiplication\n",
    "\n",
    "Our first benchmark is a simple matrix multiplication."
   ]
  },
  {
   "cell_type": "code",
   "execution_count": 5,
   "id": "irish-radio",
   "metadata": {},
   "outputs": [
    {
     "data": {
      "text/html": [
       "<div>\n",
       "<style scoped>\n",
       "    .dataframe tbody tr th:only-of-type {\n",
       "        vertical-align: middle;\n",
       "    }\n",
       "\n",
       "    .dataframe tbody tr th {\n",
       "        vertical-align: top;\n",
       "    }\n",
       "\n",
       "    .dataframe thead th {\n",
       "        text-align: right;\n",
       "    }\n",
       "</style>\n",
       "<table border=\"1\" class=\"dataframe\">\n",
       "  <thead>\n",
       "    <tr style=\"text-align: right;\">\n",
       "      <th></th>\n",
       "      <th>count</th>\n",
       "      <th>mean</th>\n",
       "      <th>std</th>\n",
       "      <th>min</th>\n",
       "      <th>25%</th>\n",
       "      <th>50%</th>\n",
       "      <th>75%</th>\n",
       "      <th>max</th>\n",
       "    </tr>\n",
       "    <tr>\n",
       "      <th>kernel</th>\n",
       "      <th></th>\n",
       "      <th></th>\n",
       "      <th></th>\n",
       "      <th></th>\n",
       "      <th></th>\n",
       "      <th></th>\n",
       "      <th></th>\n",
       "      <th></th>\n",
       "    </tr>\n",
       "  </thead>\n",
       "  <tbody>\n",
       "    <tr>\n",
       "      <th>numba</th>\n",
       "      <td>6108.0</td>\n",
       "      <td>0.848522</td>\n",
       "      <td>0.101872</td>\n",
       "      <td>0.7945</td>\n",
       "      <td>0.807475</td>\n",
       "      <td>0.8161</td>\n",
       "      <td>0.823600</td>\n",
       "      <td>1.9125</td>\n",
       "    </tr>\n",
       "    <tr>\n",
       "      <th>scipy</th>\n",
       "      <td>6338.0</td>\n",
       "      <td>0.846845</td>\n",
       "      <td>0.119047</td>\n",
       "      <td>0.7796</td>\n",
       "      <td>0.800800</td>\n",
       "      <td>0.8038</td>\n",
       "      <td>0.820675</td>\n",
       "      <td>1.8970</td>\n",
       "    </tr>\n",
       "  </tbody>\n",
       "</table>\n",
       "</div>"
      ],
      "text/plain": [
       "         count      mean       std     min       25%     50%       75%     max\n",
       "kernel                                                                        \n",
       "numba   6108.0  0.848522  0.101872  0.7945  0.807475  0.8161  0.823600  1.9125\n",
       "scipy   6338.0  0.846845  0.119047  0.7796  0.800800  0.8038  0.820675  1.8970"
      ]
     },
     "execution_count": 5,
     "metadata": {},
     "output_type": "execute_result"
    }
   ],
   "source": [
    "mab = get_runs('MultAB')\n",
    "mab['time'] *= 1000\n",
    "mab.groupby('kernel')['time'].describe()"
   ]
  },
  {
   "cell_type": "code",
   "execution_count": 6,
   "id": "subsequent-expression",
   "metadata": {},
   "outputs": [
    {
     "data": {
      "text/plain": [
       "[]"
      ]
     },
     "execution_count": 6,
     "metadata": {},
     "output_type": "execute_result"
    },
    {
     "data": {
      "image/png": "[encoded data removed]",
      "text/plain": [
       "<Figure size 360x360 with 1 Axes>"
      ]
     },
     "metadata": {
      "needs_background": "light"
     },
     "output_type": "display_data"
    }
   ],
   "source": [
    "sns.catplot(data=mab, x='kernel', y='time', kind='bar')\n",
    "plt.ylabel('ms / op')\n",
    "plt.plot()"
   ]
  },
  {
   "cell_type": "markdown",
   "id": "intellectual-nylon",
   "metadata": {},
   "source": [
    "And multiplying by the transpose:"
   ]
  },
  {
   "cell_type": "code",
   "execution_count": 7,
   "id": "joined-movement",
   "metadata": {},
   "outputs": [
    {
     "data": {
      "text/html": [
       "<div>\n",
       "<style scoped>\n",
       "    .dataframe tbody tr th:only-of-type {\n",
       "        vertical-align: middle;\n",
       "    }\n",
       "\n",
       "    .dataframe tbody tr th {\n",
       "        vertical-align: top;\n",
       "    }\n",
       "\n",
       "    .dataframe thead th {\n",
       "        text-align: right;\n",
       "    }\n",
       "</style>\n",
       "<table border=\"1\" class=\"dataframe\">\n",
       "  <thead>\n",
       "    <tr style=\"text-align: right;\">\n",
       "      <th></th>\n",
       "      <th>count</th>\n",
       "      <th>mean</th>\n",
       "      <th>std</th>\n",
       "      <th>min</th>\n",
       "      <th>25%</th>\n",
       "      <th>50%</th>\n",
       "      <th>75%</th>\n",
       "      <th>max</th>\n",
       "    </tr>\n",
       "    <tr>\n",
       "      <th>kernel</th>\n",
       "      <th></th>\n",
       "      <th></th>\n",
       "      <th></th>\n",
       "      <th></th>\n",
       "      <th></th>\n",
       "      <th></th>\n",
       "      <th></th>\n",
       "      <th></th>\n",
       "    </tr>\n",
       "  </thead>\n",
       "  <tbody>\n",
       "    <tr>\n",
       "      <th>numba</th>\n",
       "      <td>5412.0</td>\n",
       "      <td>0.930250</td>\n",
       "      <td>0.114383</td>\n",
       "      <td>0.8682</td>\n",
       "      <td>0.8907</td>\n",
       "      <td>0.8930</td>\n",
       "      <td>0.9027</td>\n",
       "      <td>3.1478</td>\n",
       "    </tr>\n",
       "    <tr>\n",
       "      <th>scipy</th>\n",
       "      <td>5130.0</td>\n",
       "      <td>1.021497</td>\n",
       "      <td>0.168088</td>\n",
       "      <td>0.9268</td>\n",
       "      <td>0.9511</td>\n",
       "      <td>0.9558</td>\n",
       "      <td>0.9892</td>\n",
       "      <td>2.4813</td>\n",
       "    </tr>\n",
       "  </tbody>\n",
       "</table>\n",
       "</div>"
      ],
      "text/plain": [
       "         count      mean       std     min     25%     50%     75%     max\n",
       "kernel                                                                    \n",
       "numba   5412.0  0.930250  0.114383  0.8682  0.8907  0.8930  0.9027  3.1478\n",
       "scipy   5130.0  1.021497  0.168088  0.9268  0.9511  0.9558  0.9892  2.4813"
      ]
     },
     "execution_count": 7,
     "metadata": {},
     "output_type": "execute_result"
    }
   ],
   "source": [
    "mab = get_runs('MultABt')\n",
    "mab['time'] *= 1000\n",
    "mab.groupby('kernel')['time'].describe()"
   ]
  },
  {
   "cell_type": "code",
   "execution_count": 8,
   "id": "objective-czech",
   "metadata": {},
   "outputs": [
    {
     "data": {
      "text/plain": [
       "[]"
      ]
     },
     "execution_count": 8,
     "metadata": {},
     "output_type": "execute_result"
    },
    {
     "data": {
      "image/png": "[encoded data removed]",
      "text/plain": [
       "<Figure size 360x360 with 1 Axes>"
      ]
     },
     "metadata": {
      "needs_background": "light"
     },
     "output_type": "display_data"
    }
   ],
   "source": [
    "sns.catplot(data=mab, x='kernel', y='time', kind='bar')\n",
    "plt.ylabel('ms / op')\n",
    "plt.plot()"
   ]
  },
  {
   "cell_type": "markdown",
   "id": "impossible-glasgow",
   "metadata": {},
   "source": [
    "### Sweep by Density\n",
    "\n",
    "We now measure sweeping a 100x100 square matrix multiply by increasing density."
   ]
  },
  {
   "cell_type": "code",
   "execution_count": 9,
   "id": "lonely-account",
   "metadata": {},
   "outputs": [],
   "source": [
    "dens = get_runs('MultAB-Density', 'density')\n",
    "dens['time'] *= 1000"
   ]
  },
  {
   "cell_type": "code",
   "execution_count": 10,
   "id": "impressive-structure",
   "metadata": {},
   "outputs": [
    {
     "data": {
      "image/png": "[encoded data removed]",
      "text/plain": [
       "<Figure size 432x288 with 1 Axes>"
      ]
     },
     "metadata": {
      "needs_background": "light"
     },
     "output_type": "display_data"
    }
   ],
   "source": [
    "sns.lineplot(data=dens, x='density', y='time', hue='kernel')\n",
    "plt.title('AB (100x100 square)')\n",
    "plt.ylabel('ms/op')\n",
    "plt.show()"
   ]
  },
  {
   "cell_type": "markdown",
   "id": "accepting-oklahoma",
   "metadata": {},
   "source": [
    "And the transpose:"
   ]
  },
  {
   "cell_type": "code",
   "execution_count": 11,
   "id": "fancy-norfolk",
   "metadata": {},
   "outputs": [],
   "source": [
    "dens = get_runs('MultABt-Density', 'density')\n",
    "dens['time'] *= 1000"
   ]
  },
  {
   "cell_type": "code",
   "execution_count": 12,
   "id": "forward-behavior",
   "metadata": {},
   "outputs": [
    {
     "data": {
      "image/png": "[encoded data removed]",
      "text/plain": [
       "<Figure size 432x288 with 1 Axes>"
      ]
     },
     "metadata": {
      "needs_background": "light"
     },
     "output_type": "display_data"
    }
   ],
   "source": [
    "sns.lineplot(data=dens, x='density', y='time', hue='kernel')\n",
    "plt.title('AB\\' (100x100 square)')\n",
    "plt.ylabel('ms/op')\n",
    "plt.show()"
   ]
  },
  {
   "cell_type": "markdown",
   "id": "difficult-council",
   "metadata": {},
   "source": [
    "## Matrix-Vector Multiplication\n",
    "\n",
    "Now we'll look at matrix/vector multiplication ($A\\vec{x}$)"
   ]
  },
  {
   "cell_type": "code",
   "execution_count": 13,
   "id": "defensive-multiple",
   "metadata": {},
   "outputs": [
    {
     "data": {
      "text/html": [
       "<div>\n",
       "<style scoped>\n",
       "    .dataframe tbody tr th:only-of-type {\n",
       "        vertical-align: middle;\n",
       "    }\n",
       "\n",
       "    .dataframe tbody tr th {\n",
       "        vertical-align: top;\n",
       "    }\n",
       "\n",
       "    .dataframe thead th {\n",
       "        text-align: right;\n",
       "    }\n",
       "</style>\n",
       "<table border=\"1\" class=\"dataframe\">\n",
       "  <thead>\n",
       "    <tr style=\"text-align: right;\">\n",
       "      <th></th>\n",
       "      <th>count</th>\n",
       "      <th>mean</th>\n",
       "      <th>std</th>\n",
       "      <th>min</th>\n",
       "      <th>25%</th>\n",
       "      <th>50%</th>\n",
       "      <th>75%</th>\n",
       "      <th>max</th>\n",
       "    </tr>\n",
       "    <tr>\n",
       "      <th>kernel</th>\n",
       "      <th></th>\n",
       "      <th></th>\n",
       "      <th></th>\n",
       "      <th></th>\n",
       "      <th></th>\n",
       "      <th></th>\n",
       "      <th></th>\n",
       "      <th></th>\n",
       "    </tr>\n",
       "  </thead>\n",
       "  <tbody>\n",
       "    <tr>\n",
       "      <th>numba</th>\n",
       "      <td>173011.0</td>\n",
       "      <td>0.01015</td>\n",
       "      <td>0.015267</td>\n",
       "      <td>0.0092</td>\n",
       "      <td>0.0096</td>\n",
       "      <td>0.0096</td>\n",
       "      <td>0.0097</td>\n",
       "      <td>6.2160</td>\n",
       "    </tr>\n",
       "    <tr>\n",
       "      <th>scipy</th>\n",
       "      <td>24643.0</td>\n",
       "      <td>0.04904</td>\n",
       "      <td>0.012712</td>\n",
       "      <td>0.0445</td>\n",
       "      <td>0.0463</td>\n",
       "      <td>0.0470</td>\n",
       "      <td>0.0475</td>\n",
       "      <td>1.0489</td>\n",
       "    </tr>\n",
       "  </tbody>\n",
       "</table>\n",
       "</div>"
      ],
      "text/plain": [
       "           count     mean       std     min     25%     50%     75%     max\n",
       "kernel                                                                     \n",
       "numba   173011.0  0.01015  0.015267  0.0092  0.0096  0.0096  0.0097  6.2160\n",
       "scipy    24643.0  0.04904  0.012712  0.0445  0.0463  0.0470  0.0475  1.0489"
      ]
     },
     "execution_count": 13,
     "metadata": {},
     "output_type": "execute_result"
    }
   ],
   "source": [
    "muax = get_runs('MultAx')\n",
    "muax['time'] *= 1000\n",
    "muax.groupby('kernel')['time'].describe()"
   ]
  },
  {
   "cell_type": "code",
   "execution_count": 14,
   "id": "compound-tennis",
   "metadata": {},
   "outputs": [
    {
     "data": {
      "image/png": "[encoded data removed]",
      "text/plain": [
       "<Figure size 360x360 with 1 Axes>"
      ]
     },
     "metadata": {
      "needs_background": "light"
     },
     "output_type": "display_data"
    }
   ],
   "source": [
    "sns.catplot(data=muax, x='kernel', y='time', kind='bar')\n",
    "plt.ylabel('ms / op')\n",
    "plt.show()"
   ]
  },
  {
   "cell_type": "code",
   "execution_count": null,
   "id": "pressing-links",
   "metadata": {},
   "outputs": [],
   "source": []
  }
 ],
 "metadata": {
  "kernelspec": {
   "display_name": "Python 3",
   "language": "python",
   "name": "python3"
  },
  "language_info": {
   "codemirror_mode": {
    "name": "ipython",
    "version": 3
   },
   "file_extension": ".py",
   "mimetype": "text/x-python",
   "name": "python",
   "nbconvert_exporter": "python",
   "pygments_lexer": "ipython3",
   "version": "3.7.9"
  }
 },
 "nbformat": 4,
 "nbformat_minor": 5
}
