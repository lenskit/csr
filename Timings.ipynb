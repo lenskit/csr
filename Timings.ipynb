{
 "cells": [
  {
   "cell_type": "markdown",
   "id": "convertible-convertible",
   "metadata": {},
   "source": [
    "# Timing Functions\n",
    "\n",
    "This notebook has the results of timing various CSR functions.  It uses the data produced by the benchmark suite and saved in `bench.json`; to prepare that data, run:\n",
    "\n",
    "    python -m pytest --benchmark-only"
   ]
  },
  {
   "cell_type": "code",
   "execution_count": 1,
   "id": "modular-relationship",
   "metadata": {},
   "outputs": [],
   "source": [
    "import json\n",
    "import numpy as np\n",
    "import scipy.sparse as sps\n",
    "import pandas as pd\n",
    "import matplotlib.pyplot as plt\n",
    "import seaborn as sns"
   ]
  },
  {
   "cell_type": "markdown",
   "id": "vulnerable-accuracy",
   "metadata": {},
   "source": [
    "Let's load the benchmark data:"
   ]
  },
  {
   "cell_type": "code",
   "execution_count": 2,
   "id": "terminal-karaoke",
   "metadata": {},
   "outputs": [
    {
     "data": {
      "text/plain": [
       "['machine_info', 'commit_info', 'benchmarks', 'datetime', 'version']"
      ]
     },
     "execution_count": 2,
     "metadata": {},
     "output_type": "execute_result"
    }
   ],
   "source": [
    "with open('bench.json', 'r') as jsf:\n",
    "    data = json.load(jsf)\n",
    "list(data.keys())"
   ]
  },
  {
   "cell_type": "markdown",
   "id": "parliamentary-melbourne",
   "metadata": {},
   "source": [
    "And define a function to get the various benchmark runs:"
   ]
  },
  {
   "cell_type": "code",
   "execution_count": 3,
   "id": "editorial-wednesday",
   "metadata": {},
   "outputs": [],
   "source": [
    "def get_runs(group, *params):\n",
    "    marks = [b for b in data['benchmarks'] if b['group'] == group]\n",
    "    ps = ['kernel'] + list(params)\n",
    "    runs = {}\n",
    "    for b in data['benchmarks']:\n",
    "        if b['group'] != group:\n",
    "            continue\n",
    "        \n",
    "        key = tuple(b['params'][p] for p in ps)\n",
    "        runs[key] = pd.Series(b['stats']['data'], name='time')\n",
    "    \n",
    "    runs = pd.concat(runs, names=ps)\n",
    "    runs = runs.reset_index(ps)\n",
    "    runs = runs.reset_index(drop=True)\n",
    "    return runs"
   ]
  },
  {
   "cell_type": "code",
   "execution_count": 4,
   "id": "dietary-latitude",
   "metadata": {},
   "outputs": [
    {
     "ename": "ValueError",
     "evalue": "No objects to concatenate",
     "output_type": "error",
     "traceback": [
      "\u001b[1;31m---------------------------------------------------------------------------\u001b[0m",
      "\u001b[1;31mValueError\u001b[0m                                Traceback (most recent call last)",
      "\u001b[1;32m<ipython-input-4-c7e951bf3102>\u001b[0m in \u001b[0;36m<module>\u001b[1;34m()\u001b[0m\n\u001b[1;32m----> 1\u001b[1;33m \u001b[0mget_runs\u001b[0m\u001b[1;33m(\u001b[0m\u001b[1;34m'MultAB'\u001b[0m\u001b[1;33m)\u001b[0m\u001b[1;33m\u001b[0m\u001b[1;33m\u001b[0m\u001b[0m\n\u001b[0m",
      "\u001b[1;32m<ipython-input-3-c1b9755f832e>\u001b[0m in \u001b[0;36mget_runs\u001b[1;34m(group, *params)\u001b[0m\n\u001b[0;32m     10\u001b[0m         \u001b[0mruns\u001b[0m\u001b[1;33m[\u001b[0m\u001b[0mkey\u001b[0m\u001b[1;33m]\u001b[0m \u001b[1;33m=\u001b[0m \u001b[0mpd\u001b[0m\u001b[1;33m.\u001b[0m\u001b[0mSeries\u001b[0m\u001b[1;33m(\u001b[0m\u001b[0mb\u001b[0m\u001b[1;33m[\u001b[0m\u001b[1;34m'stats'\u001b[0m\u001b[1;33m]\u001b[0m\u001b[1;33m[\u001b[0m\u001b[1;34m'data'\u001b[0m\u001b[1;33m]\u001b[0m\u001b[1;33m,\u001b[0m \u001b[0mname\u001b[0m\u001b[1;33m=\u001b[0m\u001b[1;34m'time'\u001b[0m\u001b[1;33m)\u001b[0m\u001b[1;33m\u001b[0m\u001b[1;33m\u001b[0m\u001b[0m\n\u001b[0;32m     11\u001b[0m \u001b[1;33m\u001b[0m\u001b[0m\n\u001b[1;32m---> 12\u001b[1;33m     \u001b[0mruns\u001b[0m \u001b[1;33m=\u001b[0m \u001b[0mpd\u001b[0m\u001b[1;33m.\u001b[0m\u001b[0mconcat\u001b[0m\u001b[1;33m(\u001b[0m\u001b[0mruns\u001b[0m\u001b[1;33m,\u001b[0m \u001b[0mnames\u001b[0m\u001b[1;33m=\u001b[0m\u001b[0mps\u001b[0m\u001b[1;33m)\u001b[0m\u001b[1;33m\u001b[0m\u001b[1;33m\u001b[0m\u001b[0m\n\u001b[0m\u001b[0;32m     13\u001b[0m     \u001b[0mruns\u001b[0m \u001b[1;33m=\u001b[0m \u001b[0mruns\u001b[0m\u001b[1;33m.\u001b[0m\u001b[0mreset_index\u001b[0m\u001b[1;33m(\u001b[0m\u001b[0mps\u001b[0m\u001b[1;33m)\u001b[0m\u001b[1;33m\u001b[0m\u001b[1;33m\u001b[0m\u001b[0m\n\u001b[0;32m     14\u001b[0m     \u001b[0mruns\u001b[0m \u001b[1;33m=\u001b[0m \u001b[0mruns\u001b[0m\u001b[1;33m.\u001b[0m\u001b[0mreset_index\u001b[0m\u001b[1;33m(\u001b[0m\u001b[0mdrop\u001b[0m\u001b[1;33m=\u001b[0m\u001b[1;32mTrue\u001b[0m\u001b[1;33m)\u001b[0m\u001b[1;33m\u001b[0m\u001b[1;33m\u001b[0m\u001b[0m\n",
      "\u001b[1;32mC:\\Users\\michaelekstrand\\Miniconda3\\envs\\csr-mkl\\lib\\site-packages\\pandas\\core\\reshape\\concat.py\u001b[0m in \u001b[0;36mconcat\u001b[1;34m(objs, axis, join, ignore_index, keys, levels, names, verify_integrity, sort, copy)\u001b[0m\n\u001b[0;32m    293\u001b[0m         \u001b[0mverify_integrity\u001b[0m\u001b[1;33m=\u001b[0m\u001b[0mverify_integrity\u001b[0m\u001b[1;33m,\u001b[0m\u001b[1;33m\u001b[0m\u001b[1;33m\u001b[0m\u001b[0m\n\u001b[0;32m    294\u001b[0m         \u001b[0mcopy\u001b[0m\u001b[1;33m=\u001b[0m\u001b[0mcopy\u001b[0m\u001b[1;33m,\u001b[0m\u001b[1;33m\u001b[0m\u001b[1;33m\u001b[0m\u001b[0m\n\u001b[1;32m--> 295\u001b[1;33m         \u001b[0msort\u001b[0m\u001b[1;33m=\u001b[0m\u001b[0msort\u001b[0m\u001b[1;33m,\u001b[0m\u001b[1;33m\u001b[0m\u001b[1;33m\u001b[0m\u001b[0m\n\u001b[0m\u001b[0;32m    296\u001b[0m     )\n\u001b[0;32m    297\u001b[0m \u001b[1;33m\u001b[0m\u001b[0m\n",
      "\u001b[1;32mC:\\Users\\michaelekstrand\\Miniconda3\\envs\\csr-mkl\\lib\\site-packages\\pandas\\core\\reshape\\concat.py\u001b[0m in \u001b[0;36m__init__\u001b[1;34m(self, objs, axis, join, keys, levels, names, ignore_index, verify_integrity, copy, sort)\u001b[0m\n\u001b[0;32m    340\u001b[0m \u001b[1;33m\u001b[0m\u001b[0m\n\u001b[0;32m    341\u001b[0m         \u001b[1;32mif\u001b[0m \u001b[0mlen\u001b[0m\u001b[1;33m(\u001b[0m\u001b[0mobjs\u001b[0m\u001b[1;33m)\u001b[0m \u001b[1;33m==\u001b[0m \u001b[1;36m0\u001b[0m\u001b[1;33m:\u001b[0m\u001b[1;33m\u001b[0m\u001b[1;33m\u001b[0m\u001b[0m\n\u001b[1;32m--> 342\u001b[1;33m             \u001b[1;32mraise\u001b[0m \u001b[0mValueError\u001b[0m\u001b[1;33m(\u001b[0m\u001b[1;34m\"No objects to concatenate\"\u001b[0m\u001b[1;33m)\u001b[0m\u001b[1;33m\u001b[0m\u001b[1;33m\u001b[0m\u001b[0m\n\u001b[0m\u001b[0;32m    343\u001b[0m \u001b[1;33m\u001b[0m\u001b[0m\n\u001b[0;32m    344\u001b[0m         \u001b[1;32mif\u001b[0m \u001b[0mkeys\u001b[0m \u001b[1;32mis\u001b[0m \u001b[1;32mNone\u001b[0m\u001b[1;33m:\u001b[0m\u001b[1;33m\u001b[0m\u001b[1;33m\u001b[0m\u001b[0m\n",
      "\u001b[1;31mValueError\u001b[0m: No objects to concatenate"
     ]
    }
   ],
   "source": [
    "get_runs('MultAB')"
   ]
  },
  {
   "cell_type": "markdown",
   "id": "terminal-edwards",
   "metadata": {},
   "source": [
    "## Matrix Multiplication\n",
    "\n",
    "Our first benchmark is a simple matrix multiplication."
   ]
  },
  {
   "cell_type": "code",
   "execution_count": 5,
   "id": "irish-radio",
   "metadata": {},
   "outputs": [
    {
     "data": {
      "text/html": [
       "<div>\n",
       "<style scoped>\n",
       "    .dataframe tbody tr th:only-of-type {\n",
       "        vertical-align: middle;\n",
       "    }\n",
       "\n",
       "    .dataframe tbody tr th {\n",
       "        vertical-align: top;\n",
       "    }\n",
       "\n",
       "    .dataframe thead th {\n",
       "        text-align: right;\n",
       "    }\n",
       "</style>\n",
       "<table border=\"1\" class=\"dataframe\">\n",
       "  <thead>\n",
       "    <tr style=\"text-align: right;\">\n",
       "      <th></th>\n",
       "      <th>count</th>\n",
       "      <th>mean</th>\n",
       "      <th>std</th>\n",
       "      <th>min</th>\n",
       "      <th>25%</th>\n",
       "      <th>50%</th>\n",
       "      <th>75%</th>\n",
       "      <th>max</th>\n",
       "    </tr>\n",
       "    <tr>\n",
       "      <th>kernel</th>\n",
       "      <th></th>\n",
       "      <th></th>\n",
       "      <th></th>\n",
       "      <th></th>\n",
       "      <th></th>\n",
       "      <th></th>\n",
       "      <th></th>\n",
       "      <th></th>\n",
       "    </tr>\n",
       "  </thead>\n",
       "  <tbody>\n",
       "    <tr>\n",
       "      <th>numba</th>\n",
       "      <td>3319.0</td>\n",
       "      <td>0.001377</td>\n",
       "      <td>0.000225</td>\n",
       "      <td>0.001227</td>\n",
       "      <td>0.001258</td>\n",
       "      <td>0.001273</td>\n",
       "      <td>0.001398</td>\n",
       "      <td>0.003453</td>\n",
       "    </tr>\n",
       "    <tr>\n",
       "      <th>scipy</th>\n",
       "      <td>5834.0</td>\n",
       "      <td>0.000902</td>\n",
       "      <td>0.000205</td>\n",
       "      <td>0.000751</td>\n",
       "      <td>0.000775</td>\n",
       "      <td>0.000792</td>\n",
       "      <td>0.000950</td>\n",
       "      <td>0.002431</td>\n",
       "    </tr>\n",
       "  </tbody>\n",
       "</table>\n",
       "</div>"
      ],
      "text/plain": [
       "         count      mean       std       min       25%       50%       75%  \\\n",
       "kernel                                                                       \n",
       "numba   3319.0  0.001377  0.000225  0.001227  0.001258  0.001273  0.001398   \n",
       "scipy   5834.0  0.000902  0.000205  0.000751  0.000775  0.000792  0.000950   \n",
       "\n",
       "             max  \n",
       "kernel            \n",
       "numba   0.003453  \n",
       "scipy   0.002431  "
      ]
     },
     "execution_count": 5,
     "metadata": {},
     "output_type": "execute_result"
    }
   ],
   "source": [
    "mab = get_runs('MultAB')\n",
    "mab['time'] *= 1000\n",
    "mab.groupby('kernel')['time'].describe()"
   ]
  },
  {
   "cell_type": "code",
   "execution_count": 6,
   "id": "subsequent-expression",
   "metadata": {},
   "outputs": [
    {
     "data": {
      "text/plain": [
       "[]"
      ]
     },
     "execution_count": 6,
     "metadata": {},
     "output_type": "execute_result"
    },
    {
     "data": {
      "image/png": "[encoded data removed]",
      "text/plain": [
       "<Figure size 360x360 with 1 Axes>"
      ]
     },
     "metadata": {
      "needs_background": "light"
     },
     "output_type": "display_data"
    }
   ],
   "source": [
    "sns.catplot(data=mab, x='kernel', y='time', kind='bar')\n",
    "plt.ylabel('ms / op')\n",
    "plt.plot()"
   ]
  },
  {
   "cell_type": "markdown",
   "id": "intellectual-nylon",
   "metadata": {},
   "source": [
    "And multiplying by the transpose:"
   ]
  },
  {
   "cell_type": "code",
   "execution_count": 36,
   "id": "joined-movement",
   "metadata": {},
   "outputs": [
    {
     "data": {
      "text/html": [
       "<div>\n",
       "<style scoped>\n",
       "    .dataframe tbody tr th:only-of-type {\n",
       "        vertical-align: middle;\n",
       "    }\n",
       "\n",
       "    .dataframe tbody tr th {\n",
       "        vertical-align: top;\n",
       "    }\n",
       "\n",
       "    .dataframe thead th {\n",
       "        text-align: right;\n",
       "    }\n",
       "</style>\n",
       "<table border=\"1\" class=\"dataframe\">\n",
       "  <thead>\n",
       "    <tr style=\"text-align: right;\">\n",
       "      <th></th>\n",
       "      <th>count</th>\n",
       "      <th>mean</th>\n",
       "      <th>std</th>\n",
       "      <th>min</th>\n",
       "      <th>25%</th>\n",
       "      <th>50%</th>\n",
       "      <th>75%</th>\n",
       "      <th>max</th>\n",
       "    </tr>\n",
       "    <tr>\n",
       "      <th>kernel</th>\n",
       "      <th></th>\n",
       "      <th></th>\n",
       "      <th></th>\n",
       "      <th></th>\n",
       "      <th></th>\n",
       "      <th></th>\n",
       "      <th></th>\n",
       "      <th></th>\n",
       "    </tr>\n",
       "  </thead>\n",
       "  <tbody>\n",
       "    <tr>\n",
       "      <th>numba</th>\n",
       "      <td>3674.0</td>\n",
       "      <td>1.647449</td>\n",
       "      <td>0.440523</td>\n",
       "      <td>1.3385</td>\n",
       "      <td>1.371</td>\n",
       "      <td>1.4195</td>\n",
       "      <td>1.771275</td>\n",
       "      <td>5.0287</td>\n",
       "    </tr>\n",
       "    <tr>\n",
       "      <th>scipy</th>\n",
       "      <td>5272.0</td>\n",
       "      <td>0.985988</td>\n",
       "      <td>0.146766</td>\n",
       "      <td>0.8958</td>\n",
       "      <td>0.922</td>\n",
       "      <td>0.9263</td>\n",
       "      <td>0.957475</td>\n",
       "      <td>2.2452</td>\n",
       "    </tr>\n",
       "  </tbody>\n",
       "</table>\n",
       "</div>"
      ],
      "text/plain": [
       "         count      mean       std     min    25%     50%       75%     max\n",
       "kernel                                                                     \n",
       "numba   3674.0  1.647449  0.440523  1.3385  1.371  1.4195  1.771275  5.0287\n",
       "scipy   5272.0  0.985988  0.146766  0.8958  0.922  0.9263  0.957475  2.2452"
      ]
     },
     "execution_count": 36,
     "metadata": {},
     "output_type": "execute_result"
    }
   ],
   "source": [
    "mab = get_runs('MultABt')\n",
    "mab['time'] *= 1000\n",
    "mab.groupby('kernel')['time'].describe()"
   ]
  },
  {
   "cell_type": "code",
   "execution_count": 37,
   "id": "objective-czech",
   "metadata": {},
   "outputs": [
    {
     "data": {
      "text/plain": [
       "[]"
      ]
     },
     "execution_count": 37,
     "metadata": {},
     "output_type": "execute_result"
    },
    {
     "data": {
      "image/png": "[encoded data removed]",
      "text/plain": [
       "<Figure size 360x360 with 1 Axes>"
      ]
     },
     "metadata": {
      "needs_background": "light"
     },
     "output_type": "display_data"
    }
   ],
   "source": [
    "sns.catplot(data=mab, x='kernel', y='time', kind='bar')\n",
    "plt.ylabel('ms / op')\n",
    "plt.plot()"
   ]
  },
  {
   "cell_type": "markdown",
   "id": "impossible-glasgow",
   "metadata": {},
   "source": [
    "### Sweep by Density\n",
    "\n",
    "We now measure sweeping a 100x100 square matrix multiply by increasing density."
   ]
  },
  {
   "cell_type": "code",
   "execution_count": 34,
   "id": "lonely-account",
   "metadata": {},
   "outputs": [],
   "source": [
    "dens = get_runs('MultAB-Density', 'density')\n",
    "dens['time'] *= 1000"
   ]
  },
  {
   "cell_type": "code",
   "execution_count": 35,
   "id": "impressive-structure",
   "metadata": {},
   "outputs": [
    {
     "data": {
      "image/png": "[encoded data removed]",
      "text/plain": [
       "<Figure size 432x288 with 1 Axes>"
      ]
     },
     "metadata": {
      "needs_background": "light"
     },
     "output_type": "display_data"
    }
   ],
   "source": [
    "sns.lineplot(data=dens, x='density', y='time', hue='kernel')\n",
    "plt.title('AB (100x100 square)')\n",
    "plt.ylabel('ms/op')\n",
    "plt.show()"
   ]
  },
  {
   "cell_type": "markdown",
   "id": "accepting-oklahoma",
   "metadata": {},
   "source": [
    "And the transpose:"
   ]
  },
  {
   "cell_type": "code",
   "execution_count": 32,
   "id": "fancy-norfolk",
   "metadata": {},
   "outputs": [],
   "source": [
    "dens = get_runs('MultABt-Density', 'density')\n",
    "dens['time'] *= 1000"
   ]
  },
  {
   "cell_type": "code",
   "execution_count": 33,
   "id": "forward-behavior",
   "metadata": {},
   "outputs": [
    {
     "data": {
      "image/png": "[encoded data removed]",
      "text/plain": [
       "<Figure size 432x288 with 1 Axes>"
      ]
     },
     "metadata": {
      "needs_background": "light"
     },
     "output_type": "display_data"
    }
   ],
   "source": [
    "sns.lineplot(data=dens, x='density', y='time', hue='kernel')\n",
    "plt.title('AB\\' (100x100 square)')\n",
    "plt.ylabel('ms/op')\n",
    "plt.show()"
   ]
  },
  {
   "cell_type": "markdown",
   "id": "difficult-council",
   "metadata": {},
   "source": [
    "## Matrix-Vector Multiplication\n",
    "\n",
    "Now we'll look at matrix/vector multiplication ($A\\vec{x}$)"
   ]
  },
  {
   "cell_type": "code",
   "execution_count": 30,
   "id": "defensive-multiple",
   "metadata": {},
   "outputs": [
    {
     "data": {
      "text/html": [
       "<div>\n",
       "<style scoped>\n",
       "    .dataframe tbody tr th:only-of-type {\n",
       "        vertical-align: middle;\n",
       "    }\n",
       "\n",
       "    .dataframe tbody tr th {\n",
       "        vertical-align: top;\n",
       "    }\n",
       "\n",
       "    .dataframe thead th {\n",
       "        text-align: right;\n",
       "    }\n",
       "</style>\n",
       "<table border=\"1\" class=\"dataframe\">\n",
       "  <thead>\n",
       "    <tr style=\"text-align: right;\">\n",
       "      <th></th>\n",
       "      <th>count</th>\n",
       "      <th>mean</th>\n",
       "      <th>std</th>\n",
       "      <th>min</th>\n",
       "      <th>25%</th>\n",
       "      <th>50%</th>\n",
       "      <th>75%</th>\n",
       "      <th>max</th>\n",
       "    </tr>\n",
       "    <tr>\n",
       "      <th>kernel</th>\n",
       "      <th></th>\n",
       "      <th></th>\n",
       "      <th></th>\n",
       "      <th></th>\n",
       "      <th></th>\n",
       "      <th></th>\n",
       "      <th></th>\n",
       "      <th></th>\n",
       "    </tr>\n",
       "  </thead>\n",
       "  <tbody>\n",
       "    <tr>\n",
       "      <th>numba</th>\n",
       "      <td>16590.0</td>\n",
       "      <td>0.235671</td>\n",
       "      <td>0.057443</td>\n",
       "      <td>0.2086</td>\n",
       "      <td>0.2153</td>\n",
       "      <td>0.2178</td>\n",
       "      <td>0.2211</td>\n",
       "      <td>1.0725</td>\n",
       "    </tr>\n",
       "    <tr>\n",
       "      <th>scipy</th>\n",
       "      <td>84176.0</td>\n",
       "      <td>0.049585</td>\n",
       "      <td>0.013787</td>\n",
       "      <td>0.0441</td>\n",
       "      <td>0.0457</td>\n",
       "      <td>0.0460</td>\n",
       "      <td>0.0466</td>\n",
       "      <td>0.3099</td>\n",
       "    </tr>\n",
       "  </tbody>\n",
       "</table>\n",
       "</div>"
      ],
      "text/plain": [
       "          count      mean       std     min     25%     50%     75%     max\n",
       "kernel                                                                     \n",
       "numba   16590.0  0.235671  0.057443  0.2086  0.2153  0.2178  0.2211  1.0725\n",
       "scipy   84176.0  0.049585  0.013787  0.0441  0.0457  0.0460  0.0466  0.3099"
      ]
     },
     "execution_count": 30,
     "metadata": {},
     "output_type": "execute_result"
    }
   ],
   "source": [
    "muax = get_runs('MultAx')\n",
    "muax['time'] *= 1000\n",
    "muax.groupby('kernel')['time'].describe()"
   ]
  },
  {
   "cell_type": "code",
   "execution_count": 31,
   "id": "compound-tennis",
   "metadata": {},
   "outputs": [
    {
     "data": {
      "image/png": "[encoded data removed]",
      "text/plain": [
       "<Figure size 360x360 with 1 Axes>"
      ]
     },
     "metadata": {
      "needs_background": "light"
     },
     "output_type": "display_data"
    }
   ],
   "source": [
    "sns.catplot(data=muax, x='kernel', y='time', kind='bar')\n",
    "plt.ylabel('ms / op')\n",
    "plt.show()"
   ]
  },
  {
   "cell_type": "code",
   "execution_count": null,
   "id": "pressing-links",
   "metadata": {},
   "outputs": [],
   "source": []
  }
 ],
 "metadata": {
  "kernelspec": {
   "display_name": "Python 3",
   "language": "python",
   "name": "python3"
  },
  "language_info": {
   "codemirror_mode": {
    "name": "ipython",
    "version": 3
   },
   "file_extension": ".py",
   "mimetype": "text/x-python",
   "name": "python",
   "nbconvert_exporter": "python",
   "pygments_lexer": "ipython3",
   "version": "3.7.9"
  }
 },
 "nbformat": 4,
 "nbformat_minor": 5
}
